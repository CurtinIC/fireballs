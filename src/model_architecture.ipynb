{
 "cells": [
  {
   "cell_type": "code",
   "execution_count": 80,
   "metadata": {
    "collapsed": false
   },
   "outputs": [
    {
     "name": "stderr",
     "output_type": "stream",
     "text": [
      "/usr/local/lib/python2.7/site-packages/keras/layers/core.py:577: UserWarning: `output_shape` argument not specified for layer lambda_53 and cannot be automatically inferred with the Theano backend. Defaulting to output shape `(None, 1, 200, 200)` (same as input shape). If the expected output shape is different, specify it via the `output_shape` argument.\n",
      "  .format(self.name, input_shape))\n"
     ]
    },
    {
     "name": "stdout",
     "output_type": "stream",
     "text": [
      "____________________________________________________________________________________________________\n",
      "Layer (type)                     Output Shape          Param #     Connected to                     \n",
      "====================================================================================================\n",
      "lambda_53 (Lambda)               (None, 1, 200, 200)   0           lambda_input_53[0][0]            \n",
      "____________________________________________________________________________________________________\n",
      "zeropadding2d_92 (ZeroPadding2D) (None, 1, 202, 202)   0           lambda_53[0][0]                  \n",
      "____________________________________________________________________________________________________\n",
      "convolution2d_84 (Convolution2D) (None, 12, 200, 200)  120         zeropadding2d_92[0][0]           \n",
      "____________________________________________________________________________________________________\n",
      "maxpooling2d_57 (MaxPooling2D)   (None, 12, 100, 100)  0           convolution2d_84[0][0]           \n",
      "____________________________________________________________________________________________________\n",
      "zeropadding2d_93 (ZeroPadding2D) (None, 12, 102, 102)  0           maxpooling2d_57[0][0]            \n",
      "____________________________________________________________________________________________________\n",
      "convolution2d_85 (Convolution2D) (None, 24, 100, 100)  2616        zeropadding2d_93[0][0]           \n",
      "____________________________________________________________________________________________________\n",
      "maxpooling2d_58 (MaxPooling2D)   (None, 24, 50, 50)    0           convolution2d_85[0][0]           \n",
      "____________________________________________________________________________________________________\n",
      "zeropadding2d_94 (ZeroPadding2D) (None, 24, 52, 52)    0           maxpooling2d_58[0][0]            \n",
      "____________________________________________________________________________________________________\n",
      "convolution2d_86 (Convolution2D) (None, 36, 50, 50)    7812        zeropadding2d_94[0][0]           \n",
      "____________________________________________________________________________________________________\n",
      "maxpooling2d_59 (MaxPooling2D)   (None, 36, 25, 25)    0           convolution2d_86[0][0]           \n",
      "____________________________________________________________________________________________________\n",
      "flatten_10 (Flatten)             (None, 22500)         0           maxpooling2d_59[0][0]            \n",
      "____________________________________________________________________________________________________\n",
      "dense_36 (Dense)                 (None, 10)            225010      flatten_10[0][0]                 \n",
      "____________________________________________________________________________________________________\n",
      "dense_37 (Dense)                 (None, 2)             22          dense_36[0][0]                   \n",
      "====================================================================================================\n",
      "Total params: 235,580\n",
      "Trainable params: 235,580\n",
      "Non-trainable params: 0\n",
      "____________________________________________________________________________________________________\n"
     ]
    }
   ],
   "source": [
    "from keras.models import Sequential\n",
    "from keras.layers.convolutional import Convolution2D, MaxPooling2D, ZeroPadding2D\n",
    "from keras.layers.core import Flatten, Dense, Lambda\n",
    "\n",
    "def pre_process(x):\n",
    "    return x\n",
    "\n",
    "# Specify architecture\n",
    "model = Sequential()\n",
    "\n",
    "model.add(Lambda(pre_process, input_shape=(1,200,200)))\n",
    "model.add(ZeroPadding2D(padding=(1,1)))\n",
    "model.add(Convolution2D(12, 3, 3, activation='relu'))\n",
    "model.add(MaxPooling2D((2, 2), strides=(2, 2)))\n",
    "model.add(ZeroPadding2D(padding=(1,1)))\n",
    "model.add(Convolution2D(24, 3, 3, activation='relu'))\n",
    "model.add(MaxPooling2D((2, 2), strides=(2, 2)))\n",
    "model.add(ZeroPadding2D(padding=(1,1)))\n",
    "model.add(Convolution2D(36, 3, 3, activation='relu'))\n",
    "model.add(MaxPooling2D((2, 2), strides=(2, 2)))\n",
    "model.add(Flatten())\n",
    "model.add(Dense(10))\n",
    "model.add(Dense(2, activation='softmax'))\n",
    "\n",
    "model.summary()"
   ]
  },
  {
   "cell_type": "code",
   "execution_count": null,
   "metadata": {
    "collapsed": true
   },
   "outputs": [],
   "source": []
  }
 ],
 "metadata": {
  "kernelspec": {
   "display_name": "Python 2",
   "language": "python",
   "name": "python2"
  },
  "language_info": {
   "codemirror_mode": {
    "name": "ipython",
    "version": 2
   },
   "file_extension": ".py",
   "mimetype": "text/x-python",
   "name": "python",
   "nbconvert_exporter": "python",
   "pygments_lexer": "ipython2",
   "version": "2.7.12"
  }
 },
 "nbformat": 4,
 "nbformat_minor": 2
}
